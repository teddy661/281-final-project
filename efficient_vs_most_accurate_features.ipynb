{
 "cells": [
  {
   "cell_type": "markdown",
   "metadata": {},
   "source": []
  },
  {
   "cell_type": "code",
   "execution_count": 2,
   "metadata": {},
   "outputs": [],
   "source": [
    "import polars as pl\n",
    "import numpy as np\n",
    "from pathlib import Path"
   ]
  },
  {
   "cell_type": "code",
   "execution_count": 3,
   "metadata": {},
   "outputs": [],
   "source": [
    "linear_svc_param_file = Path(\"test-data-linear-svc-results.parquet\")"
   ]
  },
  {
   "cell_type": "code",
   "execution_count": 4,
   "metadata": {},
   "outputs": [],
   "source": [
    "results = pl.read_parquet(linear_svc_param_file)"
   ]
  },
  {
   "cell_type": "code",
   "execution_count": 5,
   "metadata": {},
   "outputs": [
    {
     "data": {
      "text/html": [
       "<div><style>\n",
       ".dataframe > thead > tr,\n",
       ".dataframe > tbody > tr {\n",
       "  text-align: right;\n",
       "  white-space: pre-wrap;\n",
       "}\n",
       "</style>\n",
       "<small>shape: (1, 3)</small><table border=\"1\" class=\"dataframe\"><thead><tr><th>Features</th><th>NumFeatures</th><th>Accuracy</th></tr><tr><td>list[str]</td><td>i64</td><td>f64</td></tr></thead><tbody><tr><td>[&quot;hue&quot;, &quot;hog&quot;, &quot;template&quot;]</td><td>6579</td><td>0.939113</td></tr></tbody></table></div>"
      ],
      "text/plain": [
       "shape: (1, 3)\n",
       "┌────────────────────────────┬─────────────┬──────────┐\n",
       "│ Features                   ┆ NumFeatures ┆ Accuracy │\n",
       "│ ---                        ┆ ---         ┆ ---      │\n",
       "│ list[str]                  ┆ i64         ┆ f64      │\n",
       "╞════════════════════════════╪═════════════╪══════════╡\n",
       "│ [\"hue\", \"hog\", \"template\"] ┆ 6579        ┆ 0.939113 │\n",
       "└────────────────────────────┴─────────────┴──────────┘"
      ]
     },
     "execution_count": 5,
     "metadata": {},
     "output_type": "execute_result"
    }
   ],
   "source": [
    "# most_accurate = results.sort(['Accuracy'], descending=True).select(['Features', 'NumFeatures', 'Accuracy']).filter(pl.col(['Accuracy']) > 0.98)\n",
    "most_accurate = results.sort([\"Accuracy\"], descending=True).select(\n",
    "    [\"Features\", \"NumFeatures\", \"Accuracy\"]\n",
    ")[0]\n",
    "most_accurate"
   ]
  },
  {
   "cell_type": "code",
   "execution_count": 8,
   "metadata": {},
   "outputs": [
    {
     "data": {
      "text/html": [
       "<div><style>\n",
       ".dataframe > thead > tr,\n",
       ".dataframe > tbody > tr {\n",
       "  text-align: right;\n",
       "  white-space: pre-wrap;\n",
       "}\n",
       "</style>\n",
       "<small>shape: (1, 3)</small><table border=\"1\" class=\"dataframe\"><thead><tr><th>Features</th><th>NumFeatures</th><th>Accuracy</th></tr><tr><td>list[str]</td><td>i64</td><td>f64</td></tr></thead><tbody><tr><td>[&quot;hog&quot;]</td><td>2916</td><td>0.927712</td></tr></tbody></table></div>"
      ],
      "text/plain": [
       "shape: (1, 3)\n",
       "┌───────────┬─────────────┬──────────┐\n",
       "│ Features  ┆ NumFeatures ┆ Accuracy │\n",
       "│ ---       ┆ ---         ┆ ---      │\n",
       "│ list[str] ┆ i64         ┆ f64      │\n",
       "╞═══════════╪═════════════╪══════════╡\n",
       "│ [\"hog\"]   ┆ 2916        ┆ 0.927712 │\n",
       "└───────────┴─────────────┴──────────┘"
      ]
     },
     "execution_count": 8,
     "metadata": {},
     "output_type": "execute_result"
    }
   ],
   "source": [
    "most_efficient = (\n",
    "    results.sort([\"NumFeatures\"], descending=False)\n",
    "    .select([\"Features\", \"NumFeatures\", \"Accuracy\"])\n",
    "    .filter(pl.col([\"Accuracy\"]) > 0.92)[0]\n",
    ")\n",
    "most_efficient"
   ]
  }
 ],
 "metadata": {
  "kernelspec": {
   "display_name": "281-venv",
   "language": "python",
   "name": "python3"
  },
  "language_info": {
   "codemirror_mode": {
    "name": "ipython",
    "version": 3
   },
   "file_extension": ".py",
   "mimetype": "text/x-python",
   "name": "python",
   "nbconvert_exporter": "python",
   "pygments_lexer": "ipython3",
   "version": "3.11.7"
  }
 },
 "nbformat": 4,
 "nbformat_minor": 2
}
