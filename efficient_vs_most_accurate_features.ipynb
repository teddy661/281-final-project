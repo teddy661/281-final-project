{
 "cells": [
  {
   "cell_type": "markdown",
   "metadata": {},
   "source": []
  },
  {
   "cell_type": "code",
   "execution_count": 1,
   "metadata": {},
   "outputs": [],
   "source": [
    "import polars as pl\n",
    "import numpy as np\n",
    "from pathlib import Path"
   ]
  },
  {
   "cell_type": "code",
   "execution_count": 2,
   "metadata": {},
   "outputs": [],
   "source": [
    "linear_svc_param_file = Path(\"test-data-linear-svc-results.parquet\")"
   ]
  },
  {
   "cell_type": "code",
   "execution_count": 3,
   "metadata": {},
   "outputs": [],
   "source": [
    "results = pl.read_parquet(linear_svc_param_file)\n",
    "results = results.with_columns(\n",
    "    (pl.col(\"TrainTime\") + pl.col(\"PredictTime\")).alias(\"TotalTime\")\n",
    ")"
   ]
  },
  {
   "cell_type": "code",
   "execution_count": 10,
   "metadata": {},
   "outputs": [
    {
     "data": {
      "text/html": [
       "<div><style>\n",
       ".dataframe > thead > tr,\n",
       ".dataframe > tbody > tr {\n",
       "  text-align: right;\n",
       "  white-space: pre-wrap;\n",
       "}\n",
       "</style>\n",
       "<small>shape: (1, 3)</small><table border=\"1\" class=\"dataframe\"><thead><tr><th>Features</th><th>NumFeatures</th><th>Accuracy</th></tr><tr><td>list[str]</td><td>i64</td><td>f64</td></tr></thead><tbody><tr><td>[&quot;hue&quot;, &quot;hog&quot;, &quot;template&quot;]</td><td>6579</td><td>0.939113</td></tr></tbody></table></div>"
      ],
      "text/plain": [
       "shape: (1, 3)\n",
       "┌────────────────────────────┬─────────────┬──────────┐\n",
       "│ Features                   ┆ NumFeatures ┆ Accuracy │\n",
       "│ ---                        ┆ ---         ┆ ---      │\n",
       "│ list[str]                  ┆ i64         ┆ f64      │\n",
       "╞════════════════════════════╪═════════════╪══════════╡\n",
       "│ [\"hue\", \"hog\", \"template\"] ┆ 6579        ┆ 0.939113 │\n",
       "└────────────────────────────┴─────────────┴──────────┘"
      ]
     },
     "execution_count": 10,
     "metadata": {},
     "output_type": "execute_result"
    }
   ],
   "source": [
    "# most_accurate = results.sort(['Accuracy'], descending=True).select(['Features', 'NumFeatures', 'Accuracy']).filter(pl.col(['Accuracy']) > 0.98)\n",
    "most_accurate = results.sort([\"Accuracy\"], descending=True).select(\n",
    "    [\"Features\", \"NumFeatures\", \"Accuracy\"]\n",
    ")[0]\n",
    "most_accurate"
   ]
  },
  {
   "cell_type": "code",
   "execution_count": 5,
   "metadata": {},
   "outputs": [
    {
     "data": {
      "text/html": [
       "<div><style>\n",
       ".dataframe > thead > tr,\n",
       ".dataframe > tbody > tr {\n",
       "  text-align: right;\n",
       "  white-space: pre-wrap;\n",
       "}\n",
       "</style>\n",
       "<small>shape: (1, 3)</small><table border=\"1\" class=\"dataframe\"><thead><tr><th>Features</th><th>NumFeatures</th><th>Accuracy</th></tr><tr><td>list[str]</td><td>i64</td><td>f64</td></tr></thead><tbody><tr><td>[&quot;hog&quot;]</td><td>2916</td><td>0.927712</td></tr></tbody></table></div>"
      ],
      "text/plain": [
       "shape: (1, 3)\n",
       "┌───────────┬─────────────┬──────────┐\n",
       "│ Features  ┆ NumFeatures ┆ Accuracy │\n",
       "│ ---       ┆ ---         ┆ ---      │\n",
       "│ list[str] ┆ i64         ┆ f64      │\n",
       "╞═══════════╪═════════════╪══════════╡\n",
       "│ [\"hog\"]   ┆ 2916        ┆ 0.927712 │\n",
       "└───────────┴─────────────┴──────────┘"
      ]
     },
     "execution_count": 5,
     "metadata": {},
     "output_type": "execute_result"
    }
   ],
   "source": [
    "most_efficient = (\n",
    "    results.sort([\"NumFeatures\"], descending=False)\n",
    "    .select([\"Features\", \"NumFeatures\", \"Accuracy\"])\n",
    "    .filter(pl.col([\"Accuracy\"]) > 0.92)[0]\n",
    ")\n",
    "most_efficient"
   ]
  },
  {
   "cell_type": "code",
   "execution_count": 11,
   "metadata": {},
   "outputs": [
    {
     "data": {
      "text/html": [
       "<div><style>\n",
       ".dataframe > thead > tr,\n",
       ".dataframe > tbody > tr {\n",
       "  text-align: right;\n",
       "  white-space: pre-wrap;\n",
       "}\n",
       "</style>\n",
       "<small>shape: (5, 6)</small><table border=\"1\" class=\"dataframe\"><thead><tr><th>Features</th><th>NumFeatures</th><th>TrainTime</th><th>PredictTime</th><th>TotalTime</th><th>Accuracy</th></tr><tr><td>list[str]</td><td>i64</td><td>f64</td><td>f64</td><td>f64</td><td>f64</td></tr></thead><tbody><tr><td>[&quot;hog&quot;]</td><td>2916</td><td>2.298981</td><td>12.276515</td><td>14.575496</td><td>0.927712</td></tr><tr><td>[&quot;hue&quot;, &quot;hog&quot;]</td><td>3096</td><td>2.533071</td><td>14.051537</td><td>16.584608</td><td>0.930641</td></tr><tr><td>[&quot;value&quot;, &quot;hog&quot;]</td><td>3172</td><td>2.812045</td><td>14.721348</td><td>17.533393</td><td>0.922803</td></tr><tr><td>[&quot;sat&quot;, &quot;hog&quot;]</td><td>3172</td><td>2.868986</td><td>15.072888</td><td>17.941874</td><td>0.928583</td></tr><tr><td>[&quot;hue&quot;, &quot;value&quot;, &quot;hog&quot;]</td><td>3352</td><td>2.915004</td><td>15.744933</td><td>18.659937</td><td>0.92399</td></tr></tbody></table></div>"
      ],
      "text/plain": [
       "shape: (5, 6)\n",
       "┌─────────────────────────┬─────────────┬───────────┬─────────────┬───────────┬──────────┐\n",
       "│ Features                ┆ NumFeatures ┆ TrainTime ┆ PredictTime ┆ TotalTime ┆ Accuracy │\n",
       "│ ---                     ┆ ---         ┆ ---       ┆ ---         ┆ ---       ┆ ---      │\n",
       "│ list[str]               ┆ i64         ┆ f64       ┆ f64         ┆ f64       ┆ f64      │\n",
       "╞═════════════════════════╪═════════════╪═══════════╪═════════════╪═══════════╪══════════╡\n",
       "│ [\"hog\"]                 ┆ 2916        ┆ 2.298981  ┆ 12.276515   ┆ 14.575496 ┆ 0.927712 │\n",
       "│ [\"hue\", \"hog\"]          ┆ 3096        ┆ 2.533071  ┆ 14.051537   ┆ 16.584608 ┆ 0.930641 │\n",
       "│ [\"value\", \"hog\"]        ┆ 3172        ┆ 2.812045  ┆ 14.721348   ┆ 17.533393 ┆ 0.922803 │\n",
       "│ [\"sat\", \"hog\"]          ┆ 3172        ┆ 2.868986  ┆ 15.072888   ┆ 17.941874 ┆ 0.928583 │\n",
       "│ [\"hue\", \"value\", \"hog\"] ┆ 3352        ┆ 2.915004  ┆ 15.744933   ┆ 18.659937 ┆ 0.92399  │\n",
       "└─────────────────────────┴─────────────┴───────────┴─────────────┴───────────┴──────────┘"
      ]
     },
     "execution_count": 11,
     "metadata": {},
     "output_type": "execute_result"
    }
   ],
   "source": [
    "most_efficient = (\n",
    "    results.sort([\"NumFeatures\", \"TotalTime\"], descending=False)\n",
    "    .select(\n",
    "        [\"Features\", \"NumFeatures\", \"TrainTime\", \"PredictTime\", \"TotalTime\", \"Accuracy\"]\n",
    "    )\n",
    "    .filter(pl.col([\"Accuracy\"]) > 0.92)\n",
    ").head(5)\n",
    "most_efficient"
   ]
  },
  {
   "cell_type": "code",
   "execution_count": 12,
   "metadata": {},
   "outputs": [
    {
     "data": {
      "text/html": [
       "<div><style>\n",
       ".dataframe > thead > tr,\n",
       ".dataframe > tbody > tr {\n",
       "  text-align: right;\n",
       "  white-space: pre-wrap;\n",
       "}\n",
       "</style>\n",
       "<small>shape: (5, 6)</small><table border=\"1\" class=\"dataframe\"><thead><tr><th>Features</th><th>NumFeatures</th><th>TrainTime</th><th>PredictTime</th><th>TotalTime</th><th>Accuracy</th></tr><tr><td>list[str]</td><td>i64</td><td>f64</td><td>f64</td><td>f64</td><td>f64</td></tr></thead><tbody><tr><td>[&quot;hue&quot;, &quot;hog&quot;, &quot;template&quot;]</td><td>6579</td><td>5.107984</td><td>28.448629</td><td>33.556613</td><td>0.939113</td></tr><tr><td>[&quot;hue&quot;, &quot;hog&quot;, … &quot;template&quot;]</td><td>10675</td><td>10.667384</td><td>86.932375</td><td>97.599759</td><td>0.938084</td></tr><tr><td>[&quot;hog&quot;, &quot;template&quot;]</td><td>6399</td><td>4.944094</td><td>27.446252</td><td>32.390346</td><td>0.938084</td></tr><tr><td>[&quot;hog&quot;, &quot;lbp&quot;, &quot;template&quot;]</td><td>10495</td><td>9.180042</td><td>79.244453</td><td>88.424495</td><td>0.937134</td></tr><tr><td>[&quot;hue&quot;, &quot;sat&quot;, … &quot;template&quot;]</td><td>6835</td><td>5.367003</td><td>31.019355</td><td>36.386358</td><td>0.936659</td></tr></tbody></table></div>"
      ],
      "text/plain": [
       "shape: (5, 6)\n",
       "┌──────────────────────────────┬─────────────┬───────────┬─────────────┬───────────┬──────────┐\n",
       "│ Features                     ┆ NumFeatures ┆ TrainTime ┆ PredictTime ┆ TotalTime ┆ Accuracy │\n",
       "│ ---                          ┆ ---         ┆ ---       ┆ ---         ┆ ---       ┆ ---      │\n",
       "│ list[str]                    ┆ i64         ┆ f64       ┆ f64         ┆ f64       ┆ f64      │\n",
       "╞══════════════════════════════╪═════════════╪═══════════╪═════════════╪═══════════╪══════════╡\n",
       "│ [\"hue\", \"hog\", \"template\"]   ┆ 6579        ┆ 5.107984  ┆ 28.448629   ┆ 33.556613 ┆ 0.939113 │\n",
       "│ [\"hue\", \"hog\", … \"template\"] ┆ 10675       ┆ 10.667384 ┆ 86.932375   ┆ 97.599759 ┆ 0.938084 │\n",
       "│ [\"hog\", \"template\"]          ┆ 6399        ┆ 4.944094  ┆ 27.446252   ┆ 32.390346 ┆ 0.938084 │\n",
       "│ [\"hog\", \"lbp\", \"template\"]   ┆ 10495       ┆ 9.180042  ┆ 79.244453   ┆ 88.424495 ┆ 0.937134 │\n",
       "│ [\"hue\", \"sat\", … \"template\"] ┆ 6835        ┆ 5.367003  ┆ 31.019355   ┆ 36.386358 ┆ 0.936659 │\n",
       "└──────────────────────────────┴─────────────┴───────────┴─────────────┴───────────┴──────────┘"
      ]
     },
     "execution_count": 12,
     "metadata": {},
     "output_type": "execute_result"
    }
   ],
   "source": [
    "# most_accurate = results.sort(['Accuracy'], descending=True).select(['Features', 'NumFeatures', 'Accuracy']).filter(pl.col(['Accuracy']) > 0.98)\n",
    "most_accurate = (\n",
    "    results.sort([\"Accuracy\", \"TotalTime\"], descending=True)\n",
    "    .select(\n",
    "        [\"Features\", \"NumFeatures\", \"TrainTime\", \"PredictTime\", \"TotalTime\", \"Accuracy\"]\n",
    "    )\n",
    "    .head(5)\n",
    ")\n",
    "most_accurate"
   ]
  }
 ],
 "metadata": {
  "kernelspec": {
   "display_name": "281-venv",
   "language": "python",
   "name": "python3"
  },
  "language_info": {
   "codemirror_mode": {
    "name": "ipython",
    "version": 3
   },
   "file_extension": ".py",
   "mimetype": "text/x-python",
   "name": "python",
   "nbconvert_exporter": "python",
   "pygments_lexer": "ipython3",
   "version": "3.11.7"
  }
 },
 "nbformat": 4,
 "nbformat_minor": 2
}
