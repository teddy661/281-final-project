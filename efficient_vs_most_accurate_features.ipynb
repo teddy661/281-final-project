{
 "cells": [
  {
   "cell_type": "markdown",
   "metadata": {},
   "source": []
  },
  {
   "cell_type": "code",
   "execution_count": 2,
   "metadata": {},
   "outputs": [],
   "source": [
    "import polars as pl\n",
    "import numpy as np\n",
    "from pathlib import Path"
   ]
  },
  {
   "cell_type": "code",
   "execution_count": 3,
   "metadata": {},
   "outputs": [],
   "source": [
    "linear_svc_param_file = Path('test-data-linear-svc-results.parquet')"
   ]
  },
  {
   "cell_type": "code",
   "execution_count": 8,
   "metadata": {},
   "outputs": [],
   "source": [
    "results = pl.read_parquet(linear_svc_param_file)"
   ]
  },
  {
   "cell_type": "code",
   "execution_count": 12,
   "metadata": {},
   "outputs": [
    {
     "data": {
      "text/html": [
       "<div><style>\n",
       ".dataframe > thead > tr,\n",
       ".dataframe > tbody > tr {\n",
       "  text-align: right;\n",
       "  white-space: pre-wrap;\n",
       "}\n",
       "</style>\n",
       "<small>shape: (1, 9)</small><table border=\"1\" class=\"dataframe\"><thead><tr><th>Features</th><th>NumFeatures</th><th>TrainTime</th><th>PredictTime</th><th>Accuracy</th><th>ConfusionMatrix_Shape</th><th>ConfusionMatrix</th><th>ClassificationReport</th><th>ModelPath</th></tr><tr><td>list[str]</td><td>i64</td><td>f64</td><td>f64</td><td>f64</td><td>list[i64]</td><td>list[i64]</td><td>str</td><td>str</td></tr></thead><tbody><tr><td>[&quot;hue&quot;, &quot;hog&quot;, &quot;template&quot;]</td><td>6579</td><td>5.107984</td><td>28.448629</td><td>0.939113</td><td>[43, 43]</td><td>[54, 1, … 84]</td><td>&quot;              …</td><td>&quot;models\\linear-…</td></tr></tbody></table></div>"
      ],
      "text/plain": [
       "shape: (1, 9)\n",
       "┌───────────┬───────────┬───────────┬───────────┬───┬───────────┬───────────┬───────────┬──────────┐\n",
       "│ Features  ┆ NumFeatur ┆ TrainTime ┆ PredictTi ┆ … ┆ Confusion ┆ Confusion ┆ Classific ┆ ModelPat │\n",
       "│ ---       ┆ es        ┆ ---       ┆ me        ┆   ┆ Matrix_Sh ┆ Matrix    ┆ ationRepo ┆ h        │\n",
       "│ list[str] ┆ ---       ┆ f64       ┆ ---       ┆   ┆ ape       ┆ ---       ┆ rt        ┆ ---      │\n",
       "│           ┆ i64       ┆           ┆ f64       ┆   ┆ ---       ┆ list[i64] ┆ ---       ┆ str      │\n",
       "│           ┆           ┆           ┆           ┆   ┆ list[i64] ┆           ┆ str       ┆          │\n",
       "╞═══════════╪═══════════╪═══════════╪═══════════╪═══╪═══════════╪═══════════╪═══════════╪══════════╡\n",
       "│ [\"hue\",   ┆ 6579      ┆ 5.107984  ┆ 28.448629 ┆ … ┆ [43, 43]  ┆ [54, 1, … ┆ precision ┆ models\\l │\n",
       "│ \"hog\",    ┆           ┆           ┆           ┆   ┆           ┆ 84]       ┆ recal…    ┆ inear-sv │\n",
       "│ \"template ┆           ┆           ┆           ┆   ┆           ┆           ┆           ┆ c-hue-ho │\n",
       "│ \"]        ┆           ┆           ┆           ┆   ┆           ┆           ┆           ┆ g-templa │\n",
       "│           ┆           ┆           ┆           ┆   ┆           ┆           ┆           ┆ …        │\n",
       "└───────────┴───────────┴───────────┴───────────┴───┴───────────┴───────────┴───────────┴──────────┘"
      ]
     },
     "execution_count": 12,
     "metadata": {},
     "output_type": "execute_result"
    }
   ],
   "source": [
    "#most_accurate = results.sort(['Accuracy'], descending=True).select(['Features', 'NumFeatures', 'Accuracy']).filter(pl.col(['Accuracy']) > 0.98)\n",
    "most_accurate = results.sort(['Accuracy'], descending=True)[0]\n",
    "most_accurate"
   ]
  },
  {
   "cell_type": "code",
   "execution_count": 28,
   "metadata": {},
   "outputs": [
    {
     "data": {
      "text/html": [
       "<div><style>\n",
       ".dataframe > thead > tr,\n",
       ".dataframe > tbody > tr {\n",
       "  text-align: right;\n",
       "  white-space: pre-wrap;\n",
       "}\n",
       "</style>\n",
       "<small>shape: (1, 9)</small><table border=\"1\" class=\"dataframe\"><thead><tr><th>Features</th><th>NumFeatures</th><th>TrainTime</th><th>PredictTime</th><th>Accuracy</th><th>ConfusionMatrix_Shape</th><th>ConfusionMatrix</th><th>ClassificationReport</th><th>ModelPath</th></tr><tr><td>list[str]</td><td>i64</td><td>f64</td><td>f64</td><td>f64</td><td>list[i64]</td><td>list[i64]</td><td>str</td><td>str</td></tr></thead><tbody><tr><td>[&quot;hog&quot;]</td><td>2916</td><td>2.298981</td><td>12.276515</td><td>0.927712</td><td>[43, 43]</td><td>[60, 0, … 76]</td><td>&quot;              …</td><td>&quot;models\\linear-…</td></tr></tbody></table></div>"
      ],
      "text/plain": [
       "shape: (1, 9)\n",
       "┌───────────┬───────────┬───────────┬───────────┬───┬───────────┬───────────┬───────────┬──────────┐\n",
       "│ Features  ┆ NumFeatur ┆ TrainTime ┆ PredictTi ┆ … ┆ Confusion ┆ Confusion ┆ Classific ┆ ModelPat │\n",
       "│ ---       ┆ es        ┆ ---       ┆ me        ┆   ┆ Matrix_Sh ┆ Matrix    ┆ ationRepo ┆ h        │\n",
       "│ list[str] ┆ ---       ┆ f64       ┆ ---       ┆   ┆ ape       ┆ ---       ┆ rt        ┆ ---      │\n",
       "│           ┆ i64       ┆           ┆ f64       ┆   ┆ ---       ┆ list[i64] ┆ ---       ┆ str      │\n",
       "│           ┆           ┆           ┆           ┆   ┆ list[i64] ┆           ┆ str       ┆          │\n",
       "╞═══════════╪═══════════╪═══════════╪═══════════╪═══╪═══════════╪═══════════╪═══════════╪══════════╡\n",
       "│ [\"hog\"]   ┆ 2916      ┆ 2.298981  ┆ 12.276515 ┆ … ┆ [43, 43]  ┆ [60, 0, … ┆ precision ┆ models\\l │\n",
       "│           ┆           ┆           ┆           ┆   ┆           ┆ 76]       ┆ recal…    ┆ inear-sv │\n",
       "│           ┆           ┆           ┆           ┆   ┆           ┆           ┆           ┆ c-hog.jo │\n",
       "│           ┆           ┆           ┆           ┆   ┆           ┆           ┆           ┆ blib     │\n",
       "└───────────┴───────────┴───────────┴───────────┴───┴───────────┴───────────┴───────────┴──────────┘"
      ]
     },
     "execution_count": 28,
     "metadata": {},
     "output_type": "execute_result"
    }
   ],
   "source": [
    "most_efficient = results.sort(['NumFeatures'], descending=False).filter(pl.col(['Accuracy'])>0.92)[0]\n",
    "most_efficient"
   ]
  }
 ],
 "metadata": {
  "kernelspec": {
   "display_name": "281-venv",
   "language": "python",
   "name": "python3"
  },
  "language_info": {
   "codemirror_mode": {
    "name": "ipython",
    "version": 3
   },
   "file_extension": ".py",
   "mimetype": "text/x-python",
   "name": "python",
   "nbconvert_exporter": "python",
   "pygments_lexer": "ipython3",
   "version": "3.11.7"
  }
 },
 "nbformat": 4,
 "nbformat_minor": 2
}
