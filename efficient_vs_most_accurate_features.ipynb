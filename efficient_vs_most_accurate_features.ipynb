{
 "cells": [
  {
   "cell_type": "markdown",
   "metadata": {},
   "source": []
  },
  {
   "cell_type": "code",
   "execution_count": 1,
   "metadata": {},
   "outputs": [],
   "source": [
    "import polars as pl\n",
    "import numpy as np\n",
    "from pathlib import Path"
   ]
  },
  {
   "cell_type": "markdown",
   "metadata": {},
   "source": [
    "Load the results files from running each of the 255 feature combinations through the model and show the results in a table."
   ]
  },
  {
   "cell_type": "code",
   "execution_count": 2,
   "metadata": {},
   "outputs": [],
   "source": [
    "#linear_svc_param_file = Path(\"validation-data-linear-svc-results.parquet\")\n",
    "linear_svc_param_file = Path(\"test-data-linear-svc-results.parquet\")"
   ]
  },
  {
   "cell_type": "code",
   "execution_count": 3,
   "metadata": {},
   "outputs": [],
   "source": [
    "results = pl.read_parquet(linear_svc_param_file)\n",
    "results = results.with_columns(\n",
    "    (pl.col(\"TrainTime\") + pl.col(\"PredictTime\")).alias(\"TotalTime\")\n",
    ")"
   ]
  },
  {
   "cell_type": "code",
   "execution_count": 4,
   "metadata": {},
   "outputs": [
    {
     "data": {
      "text/html": [
       "<div><style>\n",
       ".dataframe > thead > tr,\n",
       ".dataframe > tbody > tr {\n",
       "  text-align: right;\n",
       "  white-space: pre-wrap;\n",
       "}\n",
       "</style>\n",
       "<small>shape: (1, 3)</small><table border=\"1\" class=\"dataframe\"><thead><tr><th>Features</th><th>NumFeatures</th><th>Accuracy</th></tr><tr><td>list[str]</td><td>i64</td><td>f64</td></tr></thead><tbody><tr><td>[&quot;sat&quot;, &quot;hog&quot;, &quot;template&quot;]</td><td>6655</td><td>0.990033</td></tr></tbody></table></div>"
      ],
      "text/plain": [
       "shape: (1, 3)\n",
       "┌────────────────────────────┬─────────────┬──────────┐\n",
       "│ Features                   ┆ NumFeatures ┆ Accuracy │\n",
       "│ ---                        ┆ ---         ┆ ---      │\n",
       "│ list[str]                  ┆ i64         ┆ f64      │\n",
       "╞════════════════════════════╪═════════════╪══════════╡\n",
       "│ [\"sat\", \"hog\", \"template\"] ┆ 6655        ┆ 0.990033 │\n",
       "└────────────────────────────┴─────────────┴──────────┘"
      ]
     },
     "execution_count": 4,
     "metadata": {},
     "output_type": "execute_result"
    }
   ],
   "source": [
    "# most_accurate = results.sort(['Accuracy'], descending=True).select(['Features', 'NumFeatures', 'Accuracy']).filter(pl.col(['Accuracy']) > 0.98)\n",
    "most_accurate = results.sort([\"Accuracy\"], descending=True).select(\n",
    "    [\"Features\", \"NumFeatures\", \"Accuracy\"]\n",
    ")[0]\n",
    "most_accurate"
   ]
  },
  {
   "cell_type": "code",
   "execution_count": 5,
   "metadata": {},
   "outputs": [
    {
     "data": {
      "text/html": [
       "<div><style>\n",
       ".dataframe > thead > tr,\n",
       ".dataframe > tbody > tr {\n",
       "  text-align: right;\n",
       "  white-space: pre-wrap;\n",
       "}\n",
       "</style>\n",
       "<small>shape: (5, 3)</small><table border=\"1\" class=\"dataframe\"><thead><tr><th>Features</th><th>NumFeatures</th><th>Accuracy</th></tr><tr><td>list[str]</td><td>i64</td><td>f64</td></tr></thead><tbody><tr><td>[&quot;hog&quot;]</td><td>2916</td><td>0.979513</td></tr><tr><td>[&quot;hue&quot;, &quot;hog&quot;]</td><td>3096</td><td>0.986157</td></tr><tr><td>[&quot;sat&quot;, &quot;hog&quot;]</td><td>3172</td><td>0.982835</td></tr><tr><td>[&quot;value&quot;, &quot;hog&quot;]</td><td>3172</td><td>0.982281</td></tr><tr><td>[&quot;hue&quot;, &quot;sat&quot;, &quot;hog&quot;]</td><td>3352</td><td>0.986157</td></tr></tbody></table></div>"
      ],
      "text/plain": [
       "shape: (5, 3)\n",
       "┌───────────────────────┬─────────────┬──────────┐\n",
       "│ Features              ┆ NumFeatures ┆ Accuracy │\n",
       "│ ---                   ┆ ---         ┆ ---      │\n",
       "│ list[str]             ┆ i64         ┆ f64      │\n",
       "╞═══════════════════════╪═════════════╪══════════╡\n",
       "│ [\"hog\"]               ┆ 2916        ┆ 0.979513 │\n",
       "│ [\"hue\", \"hog\"]        ┆ 3096        ┆ 0.986157 │\n",
       "│ [\"sat\", \"hog\"]        ┆ 3172        ┆ 0.982835 │\n",
       "│ [\"value\", \"hog\"]      ┆ 3172        ┆ 0.982281 │\n",
       "│ [\"hue\", \"sat\", \"hog\"] ┆ 3352        ┆ 0.986157 │\n",
       "└───────────────────────┴─────────────┴──────────┘"
      ]
     },
     "execution_count": 5,
     "metadata": {},
     "output_type": "execute_result"
    }
   ],
   "source": [
    "most_efficient = (\n",
    "    results.sort([\"NumFeatures\"], descending=False)\n",
    "    .select([\"Features\", \"NumFeatures\", \"Accuracy\"])\n",
    "    .filter(pl.col([\"Accuracy\"]) > 0.95).head(5)\n",
    ")\n",
    "most_efficient"
   ]
  },
  {
   "cell_type": "code",
   "execution_count": 6,
   "metadata": {},
   "outputs": [
    {
     "data": {
      "text/html": [
       "<div><style>\n",
       ".dataframe > thead > tr,\n",
       ".dataframe > tbody > tr {\n",
       "  text-align: right;\n",
       "  white-space: pre-wrap;\n",
       "}\n",
       "</style>\n",
       "<small>shape: (5, 6)</small><table border=\"1\" class=\"dataframe\"><thead><tr><th>Features</th><th>NumFeatures</th><th>TrainTime</th><th>PredictTime</th><th>TotalTime</th><th>Accuracy</th></tr><tr><td>list[str]</td><td>i64</td><td>f64</td><td>f64</td><td>f64</td><td>f64</td></tr></thead><tbody><tr><td>[&quot;hog&quot;]</td><td>2916</td><td>2.645021</td><td>2.794198</td><td>5.439219</td><td>0.979513</td></tr><tr><td>[&quot;hue&quot;, &quot;hog&quot;]</td><td>3096</td><td>2.766156</td><td>2.938134</td><td>5.70429</td><td>0.986157</td></tr><tr><td>[&quot;sat&quot;, &quot;hog&quot;]</td><td>3172</td><td>2.936597</td><td>3.149129</td><td>6.085726</td><td>0.982835</td></tr><tr><td>[&quot;value&quot;, &quot;hog&quot;]</td><td>3172</td><td>2.913639</td><td>3.178871</td><td>6.09251</td><td>0.982281</td></tr><tr><td>[&quot;hue&quot;, &quot;sat&quot;, &quot;hog&quot;]</td><td>3352</td><td>3.136855</td><td>3.373776</td><td>6.510631</td><td>0.986157</td></tr></tbody></table></div>"
      ],
      "text/plain": [
       "shape: (5, 6)\n",
       "┌───────────────────────┬─────────────┬───────────┬─────────────┬───────────┬──────────┐\n",
       "│ Features              ┆ NumFeatures ┆ TrainTime ┆ PredictTime ┆ TotalTime ┆ Accuracy │\n",
       "│ ---                   ┆ ---         ┆ ---       ┆ ---         ┆ ---       ┆ ---      │\n",
       "│ list[str]             ┆ i64         ┆ f64       ┆ f64         ┆ f64       ┆ f64      │\n",
       "╞═══════════════════════╪═════════════╪═══════════╪═════════════╪═══════════╪══════════╡\n",
       "│ [\"hog\"]               ┆ 2916        ┆ 2.645021  ┆ 2.794198    ┆ 5.439219  ┆ 0.979513 │\n",
       "│ [\"hue\", \"hog\"]        ┆ 3096        ┆ 2.766156  ┆ 2.938134    ┆ 5.70429   ┆ 0.986157 │\n",
       "│ [\"sat\", \"hog\"]        ┆ 3172        ┆ 2.936597  ┆ 3.149129    ┆ 6.085726  ┆ 0.982835 │\n",
       "│ [\"value\", \"hog\"]      ┆ 3172        ┆ 2.913639  ┆ 3.178871    ┆ 6.09251   ┆ 0.982281 │\n",
       "│ [\"hue\", \"sat\", \"hog\"] ┆ 3352        ┆ 3.136855  ┆ 3.373776    ┆ 6.510631  ┆ 0.986157 │\n",
       "└───────────────────────┴─────────────┴───────────┴─────────────┴───────────┴──────────┘"
      ]
     },
     "execution_count": 6,
     "metadata": {},
     "output_type": "execute_result"
    }
   ],
   "source": [
    "most_efficient = (\n",
    "    results.sort([\"NumFeatures\", \"TotalTime\"], descending=False)\n",
    "    .select(\n",
    "        [\"Features\", \"NumFeatures\", \"TrainTime\", \"PredictTime\", \"TotalTime\", \"Accuracy\"]\n",
    "    )\n",
    "    .filter(pl.col([\"Accuracy\"]) > 0.95)\n",
    ").head(5)\n",
    "most_efficient"
   ]
  },
  {
   "cell_type": "code",
   "execution_count": 7,
   "metadata": {},
   "outputs": [
    {
     "data": {
      "text/html": [
       "<div><style>\n",
       ".dataframe > thead > tr,\n",
       ".dataframe > tbody > tr {\n",
       "  text-align: right;\n",
       "  white-space: pre-wrap;\n",
       "}\n",
       "</style>\n",
       "<small>shape: (5, 6)</small><table border=\"1\" class=\"dataframe\"><thead><tr><th>Features</th><th>NumFeatures</th><th>TrainTime</th><th>PredictTime</th><th>TotalTime</th><th>Accuracy</th></tr><tr><td>list[str]</td><td>i64</td><td>f64</td><td>f64</td><td>f64</td><td>f64</td></tr></thead><tbody><tr><td>[&quot;hue&quot;, &quot;sat&quot;, … &quot;vgg16&quot;]</td><td>11443</td><td>11.615208</td><td>15.67071</td><td>27.285918</td><td>0.990033</td></tr><tr><td>[&quot;hue&quot;, &quot;hog&quot;, … &quot;vgg16&quot;]</td><td>11187</td><td>11.473741</td><td>15.309579</td><td>26.78332</td><td>0.990033</td></tr><tr><td>[&quot;hue&quot;, &quot;value&quot;, … &quot;vgg16&quot;]</td><td>11443</td><td>11.116717</td><td>15.565839</td><td>26.682556</td><td>0.990033</td></tr><tr><td>[&quot;hue&quot;, &quot;value&quot;, … &quot;template&quot;]</td><td>10931</td><td>10.569569</td><td>15.870705</td><td>26.440274</td><td>0.990033</td></tr><tr><td>[&quot;hue&quot;, &quot;hog&quot;, … &quot;template&quot;]</td><td>10675</td><td>10.092401</td><td>15.019335</td><td>25.111736</td><td>0.990033</td></tr></tbody></table></div>"
      ],
      "text/plain": [
       "shape: (5, 6)\n",
       "┌────────────────────────────────┬─────────────┬───────────┬─────────────┬───────────┬──────────┐\n",
       "│ Features                       ┆ NumFeatures ┆ TrainTime ┆ PredictTime ┆ TotalTime ┆ Accuracy │\n",
       "│ ---                            ┆ ---         ┆ ---       ┆ ---         ┆ ---       ┆ ---      │\n",
       "│ list[str]                      ┆ i64         ┆ f64       ┆ f64         ┆ f64       ┆ f64      │\n",
       "╞════════════════════════════════╪═════════════╪═══════════╪═════════════╪═══════════╪══════════╡\n",
       "│ [\"hue\", \"sat\", … \"vgg16\"]      ┆ 11443       ┆ 11.615208 ┆ 15.67071    ┆ 27.285918 ┆ 0.990033 │\n",
       "│ [\"hue\", \"hog\", … \"vgg16\"]      ┆ 11187       ┆ 11.473741 ┆ 15.309579   ┆ 26.78332  ┆ 0.990033 │\n",
       "│ [\"hue\", \"value\", … \"vgg16\"]    ┆ 11443       ┆ 11.116717 ┆ 15.565839   ┆ 26.682556 ┆ 0.990033 │\n",
       "│ [\"hue\", \"value\", … \"template\"] ┆ 10931       ┆ 10.569569 ┆ 15.870705   ┆ 26.440274 ┆ 0.990033 │\n",
       "│ [\"hue\", \"hog\", … \"template\"]   ┆ 10675       ┆ 10.092401 ┆ 15.019335   ┆ 25.111736 ┆ 0.990033 │\n",
       "└────────────────────────────────┴─────────────┴───────────┴─────────────┴───────────┴──────────┘"
      ]
     },
     "execution_count": 7,
     "metadata": {},
     "output_type": "execute_result"
    }
   ],
   "source": [
    "# most_accurate = results.sort(['Accuracy'], descending=True).select(['Features', 'NumFeatures', 'Accuracy']).filter(pl.col(['Accuracy']) > 0.98)\n",
    "most_accurate = (\n",
    "    results.sort([\"Accuracy\", \"TotalTime\"], descending=True)\n",
    "    .select(\n",
    "        [\"Features\", \"NumFeatures\", \"TrainTime\", \"PredictTime\", \"TotalTime\", \"Accuracy\"]\n",
    "    )\n",
    "    .head(5)\n",
    ")\n",
    "most_accurate"
   ]
  },
  {
   "cell_type": "code",
   "execution_count": 8,
   "metadata": {},
   "outputs": [
    {
     "name": "stdout",
     "output_type": "stream",
     "text": [
      "hue\n",
      "sat\n",
      "hog\n",
      "lbp\n",
      "template\n",
      "vgg16\n"
     ]
    }
   ],
   "source": [
    "for f in most_accurate[\"Features\"][0]:\n",
    "    print(f)"
   ]
  }
 ],
 "metadata": {
  "kernelspec": {
   "display_name": "281-venv",
   "language": "python",
   "name": "python3"
  },
  "language_info": {
   "codemirror_mode": {
    "name": "ipython",
    "version": 3
   },
   "file_extension": ".py",
   "mimetype": "text/x-python",
   "name": "python",
   "nbconvert_exporter": "python",
   "pygments_lexer": "ipython3",
   "version": "3.11.7"
  }
 },
 "nbformat": 4,
 "nbformat_minor": 2
}
