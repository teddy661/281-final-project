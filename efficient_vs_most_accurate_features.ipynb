{
 "cells": [
  {
   "cell_type": "markdown",
   "metadata": {},
   "source": []
  },
  {
   "cell_type": "code",
   "execution_count": 1,
   "metadata": {},
   "outputs": [],
   "source": [
    "import polars as pl\n",
    "import numpy as np\n",
    "from pathlib import Path"
   ]
  },
  {
   "cell_type": "code",
   "execution_count": 2,
   "metadata": {},
   "outputs": [],
   "source": [
    "linear_svc_param_file = Path(\"validation-data-linear-svc-results.parquet\")"
   ]
  },
  {
   "cell_type": "code",
   "execution_count": 3,
   "metadata": {},
   "outputs": [],
   "source": [
    "results = pl.read_parquet(linear_svc_param_file)\n",
    "results = results.with_columns(\n",
    "    (pl.col(\"TrainTime\") + pl.col(\"PredictTime\")).alias(\"TotalTime\")\n",
    ")"
   ]
  },
  {
   "cell_type": "code",
   "execution_count": 4,
   "metadata": {},
   "outputs": [
    {
     "data": {
      "text/html": [
       "<div><style>\n",
       ".dataframe > thead > tr,\n",
       ".dataframe > tbody > tr {\n",
       "  text-align: right;\n",
       "  white-space: pre-wrap;\n",
       "}\n",
       "</style>\n",
       "<small>shape: (1, 3)</small><table border=\"1\" class=\"dataframe\"><thead><tr><th>Features</th><th>NumFeatures</th><th>Accuracy</th></tr><tr><td>list[str]</td><td>i64</td><td>f64</td></tr></thead><tbody><tr><td>[&quot;hue&quot;, &quot;value&quot;, … &quot;template&quot;]</td><td>10931</td><td>0.988372</td></tr></tbody></table></div>"
      ],
      "text/plain": [
       "shape: (1, 3)\n",
       "┌────────────────────────────────┬─────────────┬──────────┐\n",
       "│ Features                       ┆ NumFeatures ┆ Accuracy │\n",
       "│ ---                            ┆ ---         ┆ ---      │\n",
       "│ list[str]                      ┆ i64         ┆ f64      │\n",
       "╞════════════════════════════════╪═════════════╪══════════╡\n",
       "│ [\"hue\", \"value\", … \"template\"] ┆ 10931       ┆ 0.988372 │\n",
       "└────────────────────────────────┴─────────────┴──────────┘"
      ]
     },
     "execution_count": 4,
     "metadata": {},
     "output_type": "execute_result"
    }
   ],
   "source": [
    "# most_accurate = results.sort(['Accuracy'], descending=True).select(['Features', 'NumFeatures', 'Accuracy']).filter(pl.col(['Accuracy']) > 0.98)\n",
    "most_accurate = results.sort([\"Accuracy\"], descending=True).select(\n",
    "    [\"Features\", \"NumFeatures\", \"Accuracy\"]\n",
    ")[0]\n",
    "most_accurate"
   ]
  },
  {
   "cell_type": "code",
   "execution_count": 5,
   "metadata": {},
   "outputs": [
    {
     "data": {
      "text/html": [
       "<div><style>\n",
       ".dataframe > thead > tr,\n",
       ".dataframe > tbody > tr {\n",
       "  text-align: right;\n",
       "  white-space: pre-wrap;\n",
       "}\n",
       "</style>\n",
       "<small>shape: (1, 3)</small><table border=\"1\" class=\"dataframe\"><thead><tr><th>Features</th><th>NumFeatures</th><th>Accuracy</th></tr><tr><td>list[str]</td><td>i64</td><td>f64</td></tr></thead><tbody><tr><td>[&quot;hog&quot;]</td><td>2916</td><td>0.975637</td></tr></tbody></table></div>"
      ],
      "text/plain": [
       "shape: (1, 3)\n",
       "┌───────────┬─────────────┬──────────┐\n",
       "│ Features  ┆ NumFeatures ┆ Accuracy │\n",
       "│ ---       ┆ ---         ┆ ---      │\n",
       "│ list[str] ┆ i64         ┆ f64      │\n",
       "╞═══════════╪═════════════╪══════════╡\n",
       "│ [\"hog\"]   ┆ 2916        ┆ 0.975637 │\n",
       "└───────────┴─────────────┴──────────┘"
      ]
     },
     "execution_count": 5,
     "metadata": {},
     "output_type": "execute_result"
    }
   ],
   "source": [
    "most_efficient = (\n",
    "    results.sort([\"NumFeatures\"], descending=False)\n",
    "    .select([\"Features\", \"NumFeatures\", \"Accuracy\"])\n",
    "    .filter(pl.col([\"Accuracy\"]) > 0.92)[0]\n",
    ")\n",
    "most_efficient"
   ]
  },
  {
   "cell_type": "code",
   "execution_count": 6,
   "metadata": {},
   "outputs": [
    {
     "data": {
      "text/html": [
       "<div><style>\n",
       ".dataframe > thead > tr,\n",
       ".dataframe > tbody > tr {\n",
       "  text-align: right;\n",
       "  white-space: pre-wrap;\n",
       "}\n",
       "</style>\n",
       "<small>shape: (5, 6)</small><table border=\"1\" class=\"dataframe\"><thead><tr><th>Features</th><th>NumFeatures</th><th>TrainTime</th><th>PredictTime</th><th>TotalTime</th><th>Accuracy</th></tr><tr><td>list[str]</td><td>i64</td><td>f64</td><td>f64</td><td>f64</td><td>f64</td></tr></thead><tbody><tr><td>[&quot;hog&quot;]</td><td>2916</td><td>2.446871</td><td>2.685523</td><td>5.132394</td><td>0.975637</td></tr><tr><td>[&quot;hue&quot;, &quot;hog&quot;]</td><td>3096</td><td>2.666519</td><td>2.984809</td><td>5.651328</td><td>0.980066</td></tr><tr><td>[&quot;sat&quot;, &quot;hog&quot;]</td><td>3172</td><td>2.674146</td><td>3.038569</td><td>5.712715</td><td>0.977852</td></tr><tr><td>[&quot;value&quot;, &quot;hog&quot;]</td><td>3172</td><td>2.692999</td><td>3.205085</td><td>5.898084</td><td>0.981174</td></tr><tr><td>[&quot;hue&quot;, &quot;value&quot;, &quot;hog&quot;]</td><td>3352</td><td>2.973096</td><td>3.28036</td><td>6.253456</td><td>0.982281</td></tr></tbody></table></div>"
      ],
      "text/plain": [
       "shape: (5, 6)\n",
       "┌─────────────────────────┬─────────────┬───────────┬─────────────┬───────────┬──────────┐\n",
       "│ Features                ┆ NumFeatures ┆ TrainTime ┆ PredictTime ┆ TotalTime ┆ Accuracy │\n",
       "│ ---                     ┆ ---         ┆ ---       ┆ ---         ┆ ---       ┆ ---      │\n",
       "│ list[str]               ┆ i64         ┆ f64       ┆ f64         ┆ f64       ┆ f64      │\n",
       "╞═════════════════════════╪═════════════╪═══════════╪═════════════╪═══════════╪══════════╡\n",
       "│ [\"hog\"]                 ┆ 2916        ┆ 2.446871  ┆ 2.685523    ┆ 5.132394  ┆ 0.975637 │\n",
       "│ [\"hue\", \"hog\"]          ┆ 3096        ┆ 2.666519  ┆ 2.984809    ┆ 5.651328  ┆ 0.980066 │\n",
       "│ [\"sat\", \"hog\"]          ┆ 3172        ┆ 2.674146  ┆ 3.038569    ┆ 5.712715  ┆ 0.977852 │\n",
       "│ [\"value\", \"hog\"]        ┆ 3172        ┆ 2.692999  ┆ 3.205085    ┆ 5.898084  ┆ 0.981174 │\n",
       "│ [\"hue\", \"value\", \"hog\"] ┆ 3352        ┆ 2.973096  ┆ 3.28036     ┆ 6.253456  ┆ 0.982281 │\n",
       "└─────────────────────────┴─────────────┴───────────┴─────────────┴───────────┴──────────┘"
      ]
     },
     "execution_count": 6,
     "metadata": {},
     "output_type": "execute_result"
    }
   ],
   "source": [
    "most_efficient = (\n",
    "    results.sort([\"NumFeatures\", \"TotalTime\"], descending=False)\n",
    "    .select(\n",
    "        [\"Features\", \"NumFeatures\", \"TrainTime\", \"PredictTime\", \"TotalTime\", \"Accuracy\"]\n",
    "    )\n",
    "    .filter(pl.col([\"Accuracy\"]) > 0.92)\n",
    ").head(5)\n",
    "most_efficient"
   ]
  },
  {
   "cell_type": "code",
   "execution_count": 7,
   "metadata": {},
   "outputs": [
    {
     "data": {
      "text/html": [
       "<div><style>\n",
       ".dataframe > thead > tr,\n",
       ".dataframe > tbody > tr {\n",
       "  text-align: right;\n",
       "  white-space: pre-wrap;\n",
       "}\n",
       "</style>\n",
       "<small>shape: (5, 6)</small><table border=\"1\" class=\"dataframe\"><thead><tr><th>Features</th><th>NumFeatures</th><th>TrainTime</th><th>PredictTime</th><th>TotalTime</th><th>Accuracy</th></tr><tr><td>list[str]</td><td>i64</td><td>f64</td><td>f64</td><td>f64</td><td>f64</td></tr></thead><tbody><tr><td>[&quot;hue&quot;, &quot;value&quot;, … &quot;template&quot;]</td><td>10931</td><td>10.409409</td><td>14.823308</td><td>25.232717</td><td>0.988372</td></tr><tr><td>[&quot;hue&quot;, &quot;sat&quot;, … &quot;resnet101&quot;]</td><td>9139</td><td>7.652025</td><td>8.189148</td><td>15.841173</td><td>0.988372</td></tr><tr><td>[&quot;hue&quot;, &quot;sat&quot;, … &quot;resnet101&quot;]</td><td>13491</td><td>12.062992</td><td>18.110185</td><td>30.173177</td><td>0.987818</td></tr><tr><td>[&quot;hue&quot;, &quot;sat&quot;, … &quot;resnet101&quot;]</td><td>12979</td><td>11.199652</td><td>17.17111</td><td>28.370762</td><td>0.987818</td></tr><tr><td>[&quot;hue&quot;, &quot;sat&quot;, … &quot;vgg16&quot;]</td><td>11699</td><td>9.75789</td><td>16.003522</td><td>25.761412</td><td>0.987818</td></tr></tbody></table></div>"
      ],
      "text/plain": [
       "shape: (5, 6)\n",
       "┌────────────────────────────────┬─────────────┬───────────┬─────────────┬───────────┬──────────┐\n",
       "│ Features                       ┆ NumFeatures ┆ TrainTime ┆ PredictTime ┆ TotalTime ┆ Accuracy │\n",
       "│ ---                            ┆ ---         ┆ ---       ┆ ---         ┆ ---       ┆ ---      │\n",
       "│ list[str]                      ┆ i64         ┆ f64       ┆ f64         ┆ f64       ┆ f64      │\n",
       "╞════════════════════════════════╪═════════════╪═══════════╪═════════════╪═══════════╪══════════╡\n",
       "│ [\"hue\", \"value\", … \"template\"] ┆ 10931       ┆ 10.409409 ┆ 14.823308   ┆ 25.232717 ┆ 0.988372 │\n",
       "│ [\"hue\", \"sat\", … \"resnet101\"]  ┆ 9139        ┆ 7.652025  ┆ 8.189148    ┆ 15.841173 ┆ 0.988372 │\n",
       "│ [\"hue\", \"sat\", … \"resnet101\"]  ┆ 13491       ┆ 12.062992 ┆ 18.110185   ┆ 30.173177 ┆ 0.987818 │\n",
       "│ [\"hue\", \"sat\", … \"resnet101\"]  ┆ 12979       ┆ 11.199652 ┆ 17.17111    ┆ 28.370762 ┆ 0.987818 │\n",
       "│ [\"hue\", \"sat\", … \"vgg16\"]      ┆ 11699       ┆ 9.75789   ┆ 16.003522   ┆ 25.761412 ┆ 0.987818 │\n",
       "└────────────────────────────────┴─────────────┴───────────┴─────────────┴───────────┴──────────┘"
      ]
     },
     "execution_count": 7,
     "metadata": {},
     "output_type": "execute_result"
    }
   ],
   "source": [
    "# most_accurate = results.sort(['Accuracy'], descending=True).select(['Features', 'NumFeatures', 'Accuracy']).filter(pl.col(['Accuracy']) > 0.98)\n",
    "most_accurate = (\n",
    "    results.sort([\"Accuracy\", \"TotalTime\"], descending=True)\n",
    "    .select(\n",
    "        [\"Features\", \"NumFeatures\", \"TrainTime\", \"PredictTime\", \"TotalTime\", \"Accuracy\"]\n",
    "    )\n",
    "    .head(5)\n",
    ")\n",
    "most_accurate"
   ]
  },
  {
   "cell_type": "code",
   "execution_count": 8,
   "metadata": {},
   "outputs": [
    {
     "name": "stdout",
     "output_type": "stream",
     "text": [
      "hue\n",
      "value\n",
      "hog\n",
      "lbp\n",
      "template\n"
     ]
    }
   ],
   "source": [
    "for f in most_accurate[\"Features\"][0]:\n",
    "    print(f)"
   ]
  }
 ],
 "metadata": {
  "kernelspec": {
   "display_name": "281-venv",
   "language": "python",
   "name": "python3"
  },
  "language_info": {
   "codemirror_mode": {
    "name": "ipython",
    "version": 3
   },
   "file_extension": ".py",
   "mimetype": "text/x-python",
   "name": "python",
   "nbconvert_exporter": "python",
   "pygments_lexer": "ipython3",
   "version": "3.11.7"
  }
 },
 "nbformat": 4,
 "nbformat_minor": 2
}
