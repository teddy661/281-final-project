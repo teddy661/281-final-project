{
 "cells": [
  {
   "cell_type": "code",
   "execution_count": 31,
   "metadata": {},
   "outputs": [],
   "source": [
    "# load image data\n",
    "import os\n",
    "\n",
    "import matplotlib.pyplot as plt\n",
    "import numpy as np\n",
    "import pandas as pd\n",
    "import seaborn as sns\n",
    "from PIL import Image\n",
    "from tqdm import tqdm"
   ]
  },
  {
   "cell_type": "markdown",
   "metadata": {},
   "source": [
    "### Data source: https://zenodo.org/record/4002935"
   ]
  },
  {
   "cell_type": "markdown",
   "metadata": {},
   "source": [
    "### Open the label file (labels-map-proj-v3.txt) and get the lable lines"
   ]
  },
  {
   "cell_type": "code",
   "execution_count": 32,
   "metadata": {},
   "outputs": [
    {
     "name": "stdout",
     "output_type": "stream",
     "text": [
      "Total label size: 67810\n",
      "ESP_013049_0950_RED-0067.jpg 7 train\n",
      "\n"
     ]
    }
   ],
   "source": [
    "# Download the dataset to the 'nasa_data/hirise-map-proj-v3_2' folder and open the file\n",
    "# Labels are stored in labels-map-proj-v3.txt file\n",
    "#################################################################\n",
    "\n",
    "words_path = \"nasa_data/hirise-map-proj-v3_2\"\n",
    "words_list = []\n",
    "\n",
    "words = open(f\"{words_path}/labels-map-proj_v3_2_train_val_test.txt\", \"r\").readlines()\n",
    "for line in words:\n",
    "    if line.split(\" \")[1] != \"err\":  # remove errored entries\n",
    "        words_list.append(line)\n",
    "\n",
    "print(\"Total label size:\", len(words_list))\n",
    "\n",
    "# print one example of the label line\n",
    "print(words_list[0])"
   ]
  },
  {
   "cell_type": "code",
   "execution_count": 42,
   "metadata": {},
   "outputs": [
    {
     "name": "stdout",
     "output_type": "stream",
     "text": [
      "Duplicate size: 2828\n",
      "Duplicate example: 0\n",
      "Duplicate example: 2044\n",
      "ESP_013049_0950_RED-0067.jpg 7 train\n",
      "\n",
      "ESP_013049_0950_RED-0067.jpg 7 train\n",
      "\n"
     ]
    }
   ],
   "source": [
    "# check for duplicates\n",
    "\n",
    "import collections\n",
    "duplicate_list = [item for item, count in collections.Counter(words_list).items() if count > 1]\n",
    "print(\"Duplicate size:\", len(duplicate_list))\n",
    "\n",
    "# show one example of the duplicate and the original\n",
    "ex = duplicate_list[0]\n",
    "# find all examples of the duplicate\n",
    "for i in range(len(words_list)):\n",
    "    if words_list[i] == ex:\n",
    "        print(\"Duplicate example:\", i)\n",
    "        \n",
    "print(words_list[0])\n",
    "print(words_list[2044])\n"
   ]
  },
  {
   "cell_type": "code",
   "execution_count": 43,
   "metadata": {},
   "outputs": [
    {
     "name": "stdout",
     "output_type": "stream",
     "text": [
      "Total label size: 64947\n"
     ]
    }
   ],
   "source": [
    "# remove duplicates from words_list\n",
    "words_list = list(set(words_list))\n",
    "print(\"Total label size:\", len(words_list))"
   ]
  },
  {
   "cell_type": "markdown",
   "metadata": {},
   "source": [
    "### Get image data"
   ]
  },
  {
   "cell_type": "code",
   "execution_count": 33,
   "metadata": {},
   "outputs": [],
   "source": [
    "# Handwritten text images are stored under the path (./nasa_data/map-proj-v3)\n",
    "# Define a function to get the image path and image data\n",
    "#################################################################################\n",
    "\n",
    "base_image_path = os.path.join(words_path, \"map-proj-v3_2\")\n",
    "\n",
    "\n",
    "def get_image_paths_and_labels(samples):\n",
    "    paths = []  # all the paths\n",
    "    corrected_samples = []  # all the labels\n",
    "    train_paths = []  # train paths only\n",
    "    val_paths = []  # val paths only\n",
    "    test_paths = []  # test paths only\n",
    "    train_samples = []  # train labels only\n",
    "    val_samples = []  # val labels only\n",
    "    test_samples = []  # test labels only\n",
    "\n",
    "    for i, file_line in enumerate(samples):\n",
    "        file_name = file_line.split(\" \")[0]\n",
    "        label = file_line.split(\" \")[1]\n",
    "        train_val_test = file_line.split(\" \")[2].strip(\"\\n\")\n",
    "        # Each line split will have this format for the corresponding image:\n",
    "        # file_name.jpg\n",
    "        img_path = os.path.join(base_image_path, file_name)\n",
    "        if train_val_test == \"train\":\n",
    "            # If the file doesn't exist at the path, path.getsize() will raise a FileNotFoundError exception\n",
    "            # if the file is not found, skip it\n",
    "            if os.path.exists(img_path) and os.path.getsize(img_path):\n",
    "                paths.append(img_path)\n",
    "                corrected_samples.append(label)\n",
    "                train_paths.append(img_path)\n",
    "                train_samples.append(label)\n",
    "\n",
    "        else:\n",
    "            if train_val_test == \"val\":\n",
    "                if os.path.exists(img_path) and os.path.getsize(img_path):\n",
    "                    paths.append(img_path)\n",
    "                    val_paths.append(img_path)\n",
    "                    val_samples.append(label)\n",
    "                    corrected_samples.append(label)\n",
    "\n",
    "            else:\n",
    "                if os.path.exists(img_path) and os.path.getsize(img_path):\n",
    "                    paths.append(img_path)\n",
    "                    corrected_samples.append(label)\n",
    "                    test_paths.append(img_path)\n",
    "                    test_samples.append(label)\n",
    "\n",
    "    return (\n",
    "        paths,\n",
    "        corrected_samples,\n",
    "        train_paths,\n",
    "        val_paths,\n",
    "        test_paths,\n",
    "        train_samples,\n",
    "        val_samples,\n",
    "        test_samples,\n",
    "    )"
   ]
  },
  {
   "cell_type": "code",
   "execution_count": 44,
   "metadata": {},
   "outputs": [],
   "source": [
    "# process words_list\n",
    "\n",
    "(\n",
    "    paths,\n",
    "    corrected_samples,\n",
    "    train_paths,\n",
    "    val_paths,\n",
    "    test_paths,\n",
    "    train_samples,\n",
    "    val_samples,\n",
    "    test_samples,\n",
    ") = get_image_paths_and_labels(words_list)"
   ]
  },
  {
   "cell_type": "code",
   "execution_count": 45,
   "metadata": {},
   "outputs": [
    {
     "name": "stdout",
     "output_type": "stream",
     "text": [
      "Total image size: 32182\n",
      "Total label size: 32182\n",
      "Total train image size: 24225\n",
      "Total train label size: 24225\n",
      "Total val image size: 7095\n",
      "Total val label size: 7095\n",
      "Total test image size: 862\n",
      "Total test label size: 862\n"
     ]
    }
   ],
   "source": [
    "# Path and Corrected Samples are for matched Image Paths and Labels in total\n",
    "# train, val and test are for matched Image Paths and Labels in train, val and test sets\n",
    "# based on  the labels-map-proj_v3_2_train_val_test.txt file\n",
    "print(\"Total image size:\", len(paths))\n",
    "print(\"Total label size:\", len(corrected_samples))\n",
    "print(\"Total train image size:\", len(train_paths))\n",
    "print(\"Total train label size:\", len(train_samples))\n",
    "print(\"Total val image size:\", len(val_paths))\n",
    "print(\"Total val label size:\", len(val_samples))\n",
    "print(\"Total test image size:\", len(test_paths))\n",
    "print(\"Total test label size:\", len(test_samples))"
   ]
  },
  {
   "cell_type": "code",
   "execution_count": 46,
   "metadata": {},
   "outputs": [
    {
     "data": {
      "text/plain": [
       "{0: 'other',\n",
       " 1: 'crater',\n",
       " 2: 'dark dune',\n",
       " 3: 'slope streak',\n",
       " 4: 'bright dune',\n",
       " 5: 'impact ejecta',\n",
       " 6: 'swiss cheese',\n",
       " 7: 'spider'}"
      ]
     },
     "execution_count": 46,
     "metadata": {},
     "output_type": "execute_result"
    }
   ],
   "source": [
    "# #save the dataframe as a csv file\n",
    "\n",
    "# load the csv file\n",
    "label_desc = pd.read_csv(\n",
    "    \"nasa_data/hirise-map-proj-v3_2/landmarks_map-proj-v3_2_classmap.csv\", header=None\n",
    ")\n",
    "\n",
    "# # create a dictionary from the csv file to show the class name for each label\n",
    "label_dict = dict(zip(label_desc[0], label_desc[1]))\n",
    "label_dict"
   ]
  },
  {
   "cell_type": "code",
   "execution_count": 47,
   "metadata": {},
   "outputs": [
    {
     "name": "stdout",
     "output_type": "stream",
     "text": [
      "['dark dune', 'other', 'other', 'other', 'swiss cheese']\n",
      "Length of label description list: 32182\n",
      "Length of train label description list: 24225\n",
      "Length of val label description list: 7095\n",
      "Length of test label description list: 862\n"
     ]
    }
   ],
   "source": [
    "# change the labels to integer values\n",
    "labels = [int(label) for label in corrected_samples]\n",
    "train_labels = [int(label) for label in train_samples]\n",
    "val_labels = [int(label) for label in val_samples]\n",
    "test_labels = [int(label) for label in test_samples]\n",
    "\n",
    "# create a new label description list with the class name\n",
    "label_desc = []\n",
    "for label in labels:\n",
    "    label_desc.append(label_dict[label])\n",
    "\n",
    "# create a new train label description list with the class name\n",
    "train_label_desc = []\n",
    "for label in train_labels:\n",
    "    train_label_desc.append(label_dict[label])\n",
    "\n",
    "# create a new val label description list with the class name\n",
    "val_label_desc = []\n",
    "for label in val_labels:\n",
    "    val_label_desc.append(label_dict[label])\n",
    "\n",
    "# create a new test label description list with the class name\n",
    "test_label_desc = []\n",
    "for label in test_labels:\n",
    "    test_label_desc.append(label_dict[label])\n",
    "\n",
    "\n",
    "print(label_desc[:5])\n",
    "print(\"Length of label description list:\", len(label_desc))\n",
    "print(\"Length of train label description list:\", len(train_label_desc))\n",
    "print(\"Length of val label description list:\", len(val_label_desc))\n",
    "print(\"Length of test label description list:\", len(test_label_desc))"
   ]
  },
  {
   "cell_type": "code",
   "execution_count": 49,
   "metadata": {},
   "outputs": [
    {
     "data": {
      "text/plain": [
       "Text(0.5, 1.0, 'crater')"
      ]
     },
     "execution_count": 49,
     "metadata": {},
     "output_type": "execute_result"
    },
    {
     "data": {
      "image/png": "[encoded data removed]",
      "text/plain": [
       "<Figure size 640x480 with 1 Axes>"
      ]
     },
     "metadata": {},
     "output_type": "display_data"
    }
   ],
   "source": [
    "# show one sample image\n",
    "\n",
    "# show the image\n",
    "img_sample = Image.open(train_paths[7])\n",
    "plt.imshow(img_sample, cmap=\"gray\")\n",
    "\n",
    "# set the image title to the corresponding label\n",
    "plt.title(train_label_desc[7])"
   ]
  },
  {
   "cell_type": "code",
   "execution_count": 50,
   "metadata": {},
   "outputs": [
    {
     "name": "stdout",
     "output_type": "stream",
     "text": [
      "Total Label Count By Class:\n"
     ]
    },
    {
     "data": {
      "text/html": [
       "<div>\n",
       "<style scoped>\n",
       "    .dataframe tbody tr th:only-of-type {\n",
       "        vertical-align: middle;\n",
       "    }\n",
       "\n",
       "    .dataframe tbody tr th {\n",
       "        vertical-align: top;\n",
       "    }\n",
       "\n",
       "    .dataframe thead th {\n",
       "        text-align: right;\n",
       "    }\n",
       "</style>\n",
       "<table border=\"1\" class=\"dataframe\">\n",
       "  <thead>\n",
       "    <tr style=\"text-align: right;\">\n",
       "      <th></th>\n",
       "      <th>label</th>\n",
       "      <th>count</th>\n",
       "    </tr>\n",
       "  </thead>\n",
       "  <tbody>\n",
       "    <tr>\n",
       "      <th>0</th>\n",
       "      <td>dark dune</td>\n",
       "      <td>383</td>\n",
       "    </tr>\n",
       "    <tr>\n",
       "      <th>1</th>\n",
       "      <td>other</td>\n",
       "      <td>26171</td>\n",
       "    </tr>\n",
       "    <tr>\n",
       "      <th>2</th>\n",
       "      <td>swiss cheese</td>\n",
       "      <td>891</td>\n",
       "    </tr>\n",
       "    <tr>\n",
       "      <th>3</th>\n",
       "      <td>crater</td>\n",
       "      <td>2445</td>\n",
       "    </tr>\n",
       "    <tr>\n",
       "      <th>4</th>\n",
       "      <td>bright dune</td>\n",
       "      <td>833</td>\n",
       "    </tr>\n",
       "    <tr>\n",
       "      <th>5</th>\n",
       "      <td>slope streak</td>\n",
       "      <td>775</td>\n",
       "    </tr>\n",
       "    <tr>\n",
       "      <th>6</th>\n",
       "      <td>spider</td>\n",
       "      <td>450</td>\n",
       "    </tr>\n",
       "    <tr>\n",
       "      <th>7</th>\n",
       "      <td>impact ejecta</td>\n",
       "      <td>234</td>\n",
       "    </tr>\n",
       "  </tbody>\n",
       "</table>\n",
       "</div>"
      ],
      "text/plain": [
       "           label  count\n",
       "0      dark dune    383\n",
       "1          other  26171\n",
       "2   swiss cheese    891\n",
       "3         crater   2445\n",
       "4    bright dune    833\n",
       "5   slope streak    775\n",
       "6         spider    450\n",
       "7  impact ejecta    234"
      ]
     },
     "execution_count": 50,
     "metadata": {},
     "output_type": "execute_result"
    }
   ],
   "source": [
    "# count for each type of label in the label description list\n",
    "label_count = {}\n",
    "for label in label_desc:\n",
    "    if label in label_count:\n",
    "        label_count[label] += 1\n",
    "    else:\n",
    "        label_count[label] = 1\n",
    "\n",
    "# save the label count dictionary to a dataframe\n",
    "label_count_df = pd.DataFrame.from_dict(label_count, orient=\"index\", columns=[\"count\"])\n",
    "label_count_df.index.name = \"label\"\n",
    "label_count_df = label_count_df.reset_index()\n",
    "print(\"Total Label Count By Class:\")\n",
    "label_count_df"
   ]
  },
  {
   "cell_type": "code",
   "execution_count": 51,
   "metadata": {},
   "outputs": [
    {
     "name": "stdout",
     "output_type": "stream",
     "text": [
      "Train label count by Class:\n"
     ]
    },
    {
     "data": {
      "text/html": [
       "<div>\n",
       "<style scoped>\n",
       "    .dataframe tbody tr th:only-of-type {\n",
       "        vertical-align: middle;\n",
       "    }\n",
       "\n",
       "    .dataframe tbody tr th {\n",
       "        vertical-align: top;\n",
       "    }\n",
       "\n",
       "    .dataframe thead th {\n",
       "        text-align: right;\n",
       "    }\n",
       "</style>\n",
       "<table border=\"1\" class=\"dataframe\">\n",
       "  <thead>\n",
       "    <tr style=\"text-align: right;\">\n",
       "      <th></th>\n",
       "      <th>label</th>\n",
       "      <th>count</th>\n",
       "    </tr>\n",
       "  </thead>\n",
       "  <tbody>\n",
       "    <tr>\n",
       "      <th>0</th>\n",
       "      <td>dark dune</td>\n",
       "      <td>299</td>\n",
       "    </tr>\n",
       "    <tr>\n",
       "      <th>1</th>\n",
       "      <td>other</td>\n",
       "      <td>19829</td>\n",
       "    </tr>\n",
       "    <tr>\n",
       "      <th>2</th>\n",
       "      <td>crater</td>\n",
       "      <td>1754</td>\n",
       "    </tr>\n",
       "    <tr>\n",
       "      <th>3</th>\n",
       "      <td>bright dune</td>\n",
       "      <td>789</td>\n",
       "    </tr>\n",
       "    <tr>\n",
       "      <th>4</th>\n",
       "      <td>swiss cheese</td>\n",
       "      <td>619</td>\n",
       "    </tr>\n",
       "    <tr>\n",
       "      <th>5</th>\n",
       "      <td>spider</td>\n",
       "      <td>318</td>\n",
       "    </tr>\n",
       "    <tr>\n",
       "      <th>6</th>\n",
       "      <td>impact ejecta</td>\n",
       "      <td>167</td>\n",
       "    </tr>\n",
       "    <tr>\n",
       "      <th>7</th>\n",
       "      <td>slope streak</td>\n",
       "      <td>450</td>\n",
       "    </tr>\n",
       "  </tbody>\n",
       "</table>\n",
       "</div>"
      ],
      "text/plain": [
       "           label  count\n",
       "0      dark dune    299\n",
       "1          other  19829\n",
       "2         crater   1754\n",
       "3    bright dune    789\n",
       "4   swiss cheese    619\n",
       "5         spider    318\n",
       "6  impact ejecta    167\n",
       "7   slope streak    450"
      ]
     },
     "execution_count": 51,
     "metadata": {},
     "output_type": "execute_result"
    }
   ],
   "source": [
    "# count for each type of label in the train label description list\n",
    "train_label_count = {}\n",
    "for label in train_label_desc:\n",
    "    if label in train_label_count:\n",
    "        train_label_count[label] += 1\n",
    "    else:\n",
    "        train_label_count[label] = 1\n",
    "\n",
    "# save the train label count dictionary to a dataframe\n",
    "train_label_count_df = pd.DataFrame.from_dict(\n",
    "    train_label_count, orient=\"index\", columns=[\"count\"]\n",
    ")\n",
    "train_label_count_df.index.name = \"label\"\n",
    "train_label_count_df = train_label_count_df.reset_index()\n",
    "print(\"Train label count by Class:\")\n",
    "train_label_count_df"
   ]
  },
  {
   "cell_type": "code",
   "execution_count": 52,
   "metadata": {},
   "outputs": [
    {
     "data": {
      "text/plain": [
       "0"
      ]
     },
     "execution_count": 52,
     "metadata": {},
     "output_type": "execute_result"
    }
   ],
   "source": [
    "#check for duplicates in paths\n",
    "import collections\n",
    "len([item for item, count in collections.Counter(paths).items() if count > 1])"
   ]
  },
  {
   "cell_type": "code",
   "execution_count": null,
   "metadata": {},
   "outputs": [],
   "source": [
    "# ### Split label line into training, validation and test\n",
    "\n",
    "# # randomly shuffle the label data\n",
    "# # Use 90% data for training, 5% for validation and 5% for test\n",
    "# ####################################################################\n",
    "\n",
    "\n",
    "# np.random.seed(100)\n",
    "# np.random.shuffle(img_list)\n",
    "\n",
    "# split_idx = int(0.9 * len(img_list))\n",
    "# train_samples = img_list[:split_idx]\n",
    "# test_samples = img_list[split_idx:]\n",
    "\n",
    "# val_split_idx = int(0.5 * len(test_samples))\n",
    "# validation_samples = test_samples[:val_split_idx]\n",
    "# test_samples = test_samples[val_split_idx:]\n",
    "\n",
    "# # # validate data split is done correctly\n",
    "# assert len(img_list) == len(train_samples) + len(validation_samples) + len(test_samples)\n",
    "\n",
    "# print(f\"Final training size: {len(train_samples)}\")\n",
    "# print(f\"Final validation size: {len(validation_samples)}\")\n",
    "# print(f\"Final test size: {len(test_samples)}\")\n",
    "# print(f\"Final data size: {len(img_list)}\")\n",
    "# print(\"\\nA sample label line:\", train_samples[0])"
   ]
  }
 ],
 "metadata": {
  "kernelspec": {
   "display_name": "Python 3",
   "language": "python",
   "name": "python3"
  },
  "language_info": {
   "codemirror_mode": {
    "name": "ipython",
    "version": 3
   },
   "file_extension": ".py",
   "mimetype": "text/x-python",
   "name": "python",
   "nbconvert_exporter": "python",
   "pygments_lexer": "ipython3",
   "version": "3.11.6"
  }
 },
 "nbformat": 4,
 "nbformat_minor": 2
}
